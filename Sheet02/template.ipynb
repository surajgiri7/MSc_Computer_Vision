{
 "cells": [
  {
   "cell_type": "code",
   "execution_count": null,
   "metadata": {},
   "outputs": [],
   "source": [
    "import cv2\n",
    "import numpy as np\n",
    "import matplotlib.pyplot as plt\n",
    "import time"
   ]
  },
  {
   "cell_type": "markdown",
   "metadata": {},
   "source": [
    "# Task 1 - Fourier Transform"
   ]
  },
  {
   "cell_type": "code",
   "execution_count": null,
   "metadata": {},
   "outputs": [],
   "source": [
    "def get_convolution_using_fourier_transform(image, kernel):\n",
    "    # TODO: implement\n",
    "    raise NotImplementedError"
   ]
  },
  {
   "cell_type": "code",
   "execution_count": null,
   "metadata": {},
   "outputs": [],
   "source": [
    "def get_convolution(image, kernel):\n",
    "    # TODO: implement\n",
    "    raise NotImplementedError"
   ]
  },
  {
   "cell_type": "code",
   "execution_count": null,
   "metadata": {},
   "outputs": [],
   "source": [
    "image = cv2.imread(\"./data/einstein.jpeg\", cv2.IMREAD_GRAYSCALE)\n",
    "kernel = None  # TODO: calculate kernel\n",
    "\n",
    "cv_result = None # TODO: cv2.filter2D\n",
    "conv_result = get_convolution(image, kernel)\n",
    "fft_result = get_convolution_using_fourier_transform(image, kernel)"
   ]
  },
  {
   "cell_type": "markdown",
   "metadata": {},
   "source": [
    "# Task 2 - Template Matching"
   ]
  },
  {
   "cell_type": "code",
   "execution_count": null,
   "metadata": {},
   "outputs": [],
   "source": [
    "def normalized_cross_correlation(image, template):\n",
    "    # TODO: implement\n",
    "    raise NotImplementedError\n",
    "\n",
    "def ssd(image, template):\n",
    "    # TODO: implement\n",
    "    raise NotImplementedError\n",
    "\n",
    "def draw_rectangle_at_matches(image, template_h, template_w, matches):\n",
    "    # TODO: implement\n",
    "    raise NotImplementedError"
   ]
  },
  {
   "cell_type": "code",
   "execution_count": null,
   "metadata": {},
   "outputs": [],
   "source": [
    "image = cv2.imread(\"./data/lena.png\", cv2.IMREAD_GRAYSCALE)\n",
    "template = cv2.imread(\"./data/eye.png\", cv2.IMREAD_GRAYSCALE)\n",
    "\n",
    "# convert to float and apply intensity transformation to image\n",
    "\n",
    "result_ncc = normalized_cross_correlation(image, template)\n",
    "result_ssd = ssd(image, template)\n",
    "\n",
    "# TODO: draw rectangle around found locations\n",
    "# TODO: show the results"
   ]
  },
  {
   "cell_type": "markdown",
   "metadata": {},
   "source": [
    "# Task 3 - Gaussian Pyramid"
   ]
  },
  {
   "cell_type": "code",
   "execution_count": null,
   "metadata": {},
   "outputs": [],
   "source": [
    "def build_gaussian_pyramid_opencv(image, num_levels):\n",
    "    # TODO: implement\n",
    "    raise NotImplementedError\n",
    "\n",
    "\n",
    "def build_gaussian_pyramid(image, num_levels):\n",
    "    # TODO: implement\n",
    "    raise NotImplementedError\n",
    "\n",
    "\n",
    "def template_matching_multiple_scales(pyramid_image, pyramid_template):\n",
    "    # TODO: implement\n",
    "    raise NotImplementedError"
   ]
  },
  {
   "cell_type": "code",
   "execution_count": null,
   "metadata": {},
   "outputs": [],
   "source": [
    "image = cv2.imread(\"./data/traffic.jpg\", cv2.IMREAD_GRAYSCALE)\n",
    "template = cv2.imread(\"./data/traffic-template.png\", cv2.IMREAD_GRAYSCALE)\n",
    "\n",
    "cv_pyramid = build_gaussian_pyramid_opencv(image, 4)\n",
    "\n",
    "my_pyramid = build_gaussian_pyramid(image, 4)\n",
    "my_pyramid_template = build_gaussian_pyramid(template, 4)\n",
    "\n",
    "# TODO: compare and print mean absolute difference at each level\n",
    "\n",
    "# TODO: calculate the time needed for template matching without the pyramid\n",
    "\n",
    "result = template_matching_multiple_scales(my_pyramid, my_pyramid_template)\n",
    "# TODO: calculate the time needed for template matching with the pyramid\n",
    "\n",
    "# TODO: show the template matching results using the pyramid"
   ]
  },
  {
   "cell_type": "markdown",
   "metadata": {},
   "source": [
    "# Task 4 - Edges"
   ]
  },
  {
   "cell_type": "code",
   "execution_count": null,
   "metadata": {},
   "outputs": [],
   "source": [
    "def get_derivative_of_gaussian_kernel(size, sigma):\n",
    "    # TODO: implement\n",
    "    raise NotImplementedError\n",
    "\n",
    "\n",
    "def non_max_suppression(gradient_magnitude, gradient_direction):\n",
    "    # TODO: implement\n",
    "    raise NotImplementedError"
   ]
  },
  {
   "cell_type": "markdown",
   "metadata": {},
   "source": [
    "Derivative of gaussian"
   ]
  },
  {
   "cell_type": "code",
   "execution_count": null,
   "metadata": {},
   "outputs": [],
   "source": [
    "image = cv2.imread(\"./data/einstein.jpeg\", cv2.IMREAD_GRAYSCALE)\n",
    "\n",
    "kernel_x, kernel_y = get_derivative_of_gaussian_kernel(7, 2)\n",
    "\n",
    "edges_x = None  # TODO: convolve with kernel_x\n",
    "edges_y = None  # TODO: convolve with kernel_y\n",
    "\n",
    "magnitude = None  # TODO: compute edge magnitude\n",
    "direction = None  # TODO: compute edge direction\n",
    "\n",
    "suppressed_image = non_max_suppression(magnitude, direction)\n",
    "\n",
    "# TODO: thresholding and plot"
   ]
  },
  {
   "cell_type": "markdown",
   "metadata": {},
   "source": [
    "Sobel"
   ]
  },
  {
   "cell_type": "code",
   "execution_count": null,
   "metadata": {},
   "outputs": [],
   "source": [
    "sobel_kernel_x, sobel_kernel_y = None, None\n",
    "\n",
    "edge_sobel_x = None  # TODO: compute the edges with sobel\n",
    "edge_sobel_y = None  # TODO: compute the edges with sobel\n",
    "\n",
    "# TODO: compute the mean absolute error"
   ]
  },
  {
   "cell_type": "markdown",
   "metadata": {},
   "source": [
    "# Task 5 - Distance Transform"
   ]
  },
  {
   "cell_type": "code",
   "execution_count": null,
   "metadata": {},
   "outputs": [],
   "source": [
    "image = cv2.imread(\"./data/traffic.jpg\", cv2.IMREAD_GRAYSCALE)\n",
    "\n",
    "edges = None  # TODO: compute edges\n",
    "\n",
    "dist_transfom_cv = None  # TODO: compute using opencv\n",
    "\n",
    "dist_transfom_cv_filtered = None  # TODO: compute after filtering some high-frequency edges"
   ]
  }
 ],
 "metadata": {
  "language_info": {
   "name": "python"
  }
 },
 "nbformat": 4,
 "nbformat_minor": 2
}
